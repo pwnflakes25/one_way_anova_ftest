{
  "nbformat": 4,
  "nbformat_minor": 0,
  "metadata": {
    "colab": {
      "name": "one_way_anova_analysis.ipynb",
      "provenance": [],
      "collapsed_sections": [],
      "include_colab_link": true
    },
    "kernelspec": {
      "name": "python3",
      "display_name": "Python 3"
    },
    "language_info": {
      "name": "python"
    }
  },
  "cells": [
    {
      "cell_type": "markdown",
      "metadata": {
        "id": "view-in-github",
        "colab_type": "text"
      },
      "source": [
        "<a href=\"https://colab.research.google.com/github/pwnflakes25/one_way_anova_ftest/blob/main/one_way_anova_analysis.ipynb\" target=\"_parent\"><img src=\"https://colab.research.google.com/assets/colab-badge.svg\" alt=\"Open In Colab\"/></a>"
      ]
    },
    {
      "cell_type": "markdown",
      "metadata": {
        "id": "PcgNuZrMXv5U"
      },
      "source": [
        "**One Way Anova Test**\n",
        "- Allows to check if the mean of several samples are statistically significantly different"
      ]
    },
    {
      "cell_type": "code",
      "metadata": {
        "colab": {
          "base_uri": "https://localhost:8080/"
        },
        "id": "dGpgK_p0lbxa",
        "outputId": "8f245c7d-e623-4b23-bb82-a6f797ab5f68"
      },
      "source": [
        "import pandas as pd\n",
        "import numpy as np\n",
        "import seaborn as sns\n",
        "from scipy.stats import f_oneway\n",
        "%load_ext google.colab.data_table"
      ],
      "execution_count": null,
      "outputs": [
        {
          "output_type": "stream",
          "text": [
            "The google.colab.data_table extension is already loaded. To reload it, use:\n",
            "  %reload_ext google.colab.data_table\n"
          ],
          "name": "stdout"
        }
      ]
    },
    {
      "cell_type": "code",
      "metadata": {
        "colab": {
          "base_uri": "https://localhost:8080/"
        },
        "id": "qkMS-5rclrHW",
        "outputId": "d40d3359-6bb3-42aa-8d0f-7670f1be6a5c"
      },
      "source": [
        "sample1 = np.array(input(\"Enter number list separated by comma:\").split(',')).astype('int')\n",
        "sample2 = np.array(input(\"Enter number list separated by comma:\").split(',')).astype('int')\n",
        "sample3 = np.array(input(\"Enter number list separated by comma:\").split(',')).astype('int')\n",
        "aggregate = [sample1,sample2,sample3]"
      ],
      "execution_count": 162,
      "outputs": [
        {
          "output_type": "stream",
          "text": [
            "Enter number list separated by comma:1,20,39,14,5,7\n",
            "Enter number list separated by comma:9,1,7,20,30,51\n",
            "Enter number list separated by comma:100,17,23,68,73,21\n"
          ],
          "name": "stdout"
        }
      ]
    },
    {
      "cell_type": "markdown",
      "metadata": {
        "id": "R741Q5vXor2C"
      },
      "source": [
        "In order to determine if the means of a set of samples are statistically significantly different than each other, we need to find to use the F-test to determine so. Thus the hypothesis goes:\n",
        "- H0: u1 = u2 = u3\n",
        "- H1: At least one of the sample means is different"
      ]
    },
    {
      "cell_type": "code",
      "metadata": {
        "colab": {
          "base_uri": "https://localhost:8080/",
          "height": 215
        },
        "id": "jxFf76Eum7Wo",
        "outputId": "1719eaab-0ecb-4c17-9032-07debd2aa2d8"
      },
      "source": [
        "c = len(aggregate)\n",
        "n = 0\n",
        "for sample in aggregate:\n",
        "  n += len(sample)\n",
        "\n",
        "stackedSample = np.stack(tuple([sample for sample in aggregate]), axis=-1)\n",
        "\n",
        "def getGrandMean():\n",
        "  global grandMean\n",
        "  grandMean = np.mean(np.mean(stackedSample, axis=0))\n",
        "\n",
        "def getMSA():\n",
        "  global ssa, msa\n",
        "  ssa = np.sum([len(sample) for sample in aggregate] * (np.mean(stackedSample, axis=0) - grandMean) ** 2)\n",
        "  msa = ssa / (c - 1)\n",
        "\n",
        "def getMSW():\n",
        "  global ssw, msw\n",
        "  stackedMean = np.tile(np.mean(stackedSample, axis=0),(stackedSample.shape[0],1))\n",
        "  ssw = np.sum((stackedSample - stackedMean) ** 2)\n",
        "  msw = ssw / (n - c)\n",
        "\n",
        "def getFStats():\n",
        "  global f_statistic\n",
        "  f_statistic = msa / msw\n",
        "\n",
        "def getConfirmFStats():\n",
        "  global f_statistic_real\n",
        "  f_statistic_real = f_oneway(sample1, sample2, sample3)\n",
        "\n",
        "\n",
        "getGrandMean()\n",
        "getMSA()\n",
        "getMSW()\n",
        "getFStats()\n",
        "getConfirmFStats()\n",
        "\n",
        "status = 'Reject' if f_statistic_real[1] < 0.05 else 'Accept'\n",
        "explanation = \"there is a statistically significant difference between the samples\" if f_statistic_real[1] < 0.05 else \"there is no statistically significant difference between the samples\"\n",
        "\n",
        "\n",
        "if (np.isclose(f_statistic, f_statistic_real[0], atol=10**-3) == True):\n",
        "  df = pd.DataFrame({'keys': [\"MSA (Between Samples Mean)\", \"MSW (Within Samples Mean)\", \"F-Statistic\", \"p-value\", \"H0 Status\", \"Explanation\"], 'Results': [msa, msw, f_statistic, f_statistic_real[1], status, explanation]})\n",
        "  display(df)\n"
      ],
      "execution_count": 163,
      "outputs": [
        {
          "output_type": "display_data",
          "data": {
            "application/vnd.google.colaboratory.module+javascript": "\n      import \"https://ssl.gstatic.com/colaboratory/data_table/a6224c040fa35dcf/data_table.js\";\n\n      window.createDataTable({\n        data: [[{\n            'v': 0,\n            'f': \"0\",\n        },\n\"MSA (Between Samples Mean)\",\n2264.8888888888887],\n [{\n            'v': 1,\n            'f': \"1\",\n        },\n\"MSW (Within Samples Mean)\",\n578.8],\n [{\n            'v': 2,\n            'f': \"2\",\n        },\n\"F-Statistic\",\n3.913076864009829],\n [{\n            'v': 3,\n            'f': \"3\",\n        },\n\"p-value\",\n0.04289818417460112],\n [{\n            'v': 4,\n            'f': \"4\",\n        },\n\"H0 Status\",\n\"Reject\"],\n [{\n            'v': 5,\n            'f': \"5\",\n        },\n\"Explanation\",\n\"there is a statistically significant difference between the samples\"]],\n        columns: [[\"number\", \"index\"], [\"string\", \"keys\"], [\"string\", \"Results\"]],\n        columnOptions: [{\"width\": \"1px\", \"className\": \"index_column\"}],\n        rowsPerPage: 25,\n        helpUrl: \"https://colab.research.google.com/notebooks/data_table.ipynb\",\n        suppressOutputScrolling: true,\n        minimumWidth: undefined,\n      });\n    ",
            "text/html": [
              "<div>\n",
              "<style scoped>\n",
              "    .dataframe tbody tr th:only-of-type {\n",
              "        vertical-align: middle;\n",
              "    }\n",
              "\n",
              "    .dataframe tbody tr th {\n",
              "        vertical-align: top;\n",
              "    }\n",
              "\n",
              "    .dataframe thead th {\n",
              "        text-align: right;\n",
              "    }\n",
              "</style>\n",
              "<table border=\"1\" class=\"dataframe\">\n",
              "  <thead>\n",
              "    <tr style=\"text-align: right;\">\n",
              "      <th></th>\n",
              "      <th>keys</th>\n",
              "      <th>Results</th>\n",
              "    </tr>\n",
              "  </thead>\n",
              "  <tbody>\n",
              "    <tr>\n",
              "      <th>0</th>\n",
              "      <td>MSA (Between Samples Mean)</td>\n",
              "      <td>2264.89</td>\n",
              "    </tr>\n",
              "    <tr>\n",
              "      <th>1</th>\n",
              "      <td>MSW (Within Samples Mean)</td>\n",
              "      <td>578.8</td>\n",
              "    </tr>\n",
              "    <tr>\n",
              "      <th>2</th>\n",
              "      <td>F-Statistic</td>\n",
              "      <td>3.91308</td>\n",
              "    </tr>\n",
              "    <tr>\n",
              "      <th>3</th>\n",
              "      <td>p-value</td>\n",
              "      <td>0.0428982</td>\n",
              "    </tr>\n",
              "    <tr>\n",
              "      <th>4</th>\n",
              "      <td>H0 Status</td>\n",
              "      <td>Reject</td>\n",
              "    </tr>\n",
              "    <tr>\n",
              "      <th>5</th>\n",
              "      <td>Explanation</td>\n",
              "      <td>there is a statistically significant differenc...</td>\n",
              "    </tr>\n",
              "  </tbody>\n",
              "</table>\n",
              "</div>"
            ],
            "text/plain": [
              "                         keys                                            Results\n",
              "0  MSA (Between Samples Mean)                                            2264.89\n",
              "1   MSW (Within Samples Mean)                                              578.8\n",
              "2                 F-Statistic                                            3.91308\n",
              "3                     p-value                                          0.0428982\n",
              "4                   H0 Status                                             Reject\n",
              "5                 Explanation  there is a statistically significant differenc..."
            ]
          },
          "metadata": {
            "tags": []
          }
        }
      ]
    },
    {
      "cell_type": "code",
      "metadata": {
        "id": "42UTvGoTftOG"
      },
      "source": [
        ""
      ],
      "execution_count": null,
      "outputs": []
    }
  ]
}